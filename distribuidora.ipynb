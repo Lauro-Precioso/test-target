{
 "cells": [
  {
   "cell_type": "code",
   "execution_count": 5,
   "metadata": {},
   "outputs": [
    {
     "name": "stdout",
     "output_type": "stream",
     "text": [
      "[{'dia': 1, 'valor': 22174.1664}, {'dia': 2, 'valor': 24537.6698}, {'dia': 3, 'valor': 26139.6134}, {'dia': 4, 'valor': 0.0}, {'dia': 5, 'valor': 0.0}, {'dia': 6, 'valor': 26742.6612}, {'dia': 7, 'valor': 0.0}, {'dia': 8, 'valor': 42889.2258}, {'dia': 9, 'valor': 46251.174}, {'dia': 10, 'valor': 11191.4722}, {'dia': 11, 'valor': 0.0}, {'dia': 12, 'valor': 0.0}, {'dia': 13, 'valor': 3847.4823}, {'dia': 14, 'valor': 373.7838}, {'dia': 15, 'valor': 2659.7563}, {'dia': 16, 'valor': 48924.2448}, {'dia': 17, 'valor': 18419.2614}, {'dia': 18, 'valor': 0.0}, {'dia': 19, 'valor': 0.0}, {'dia': 20, 'valor': 35240.1826}, {'dia': 21, 'valor': 43829.1667}, {'dia': 22, 'valor': 18235.6852}, {'dia': 23, 'valor': 4355.0662}, {'dia': 24, 'valor': 13327.1025}, {'dia': 25, 'valor': 0.0}, {'dia': 26, 'valor': 0.0}, {'dia': 27, 'valor': 25681.8318}, {'dia': 28, 'valor': 1718.1221}, {'dia': 29, 'valor': 13220.495}, {'dia': 30, 'valor': 8414.61}]\n"
     ]
    }
   ],
   "source": [
    "import json\n",
    "\n",
    "with open(\"dados.json\", encoding='utf-8') as f:\n",
    "    dados = json.load(f)\n"
   ]
  },
  {
   "cell_type": "code",
   "execution_count": 31,
   "metadata": {},
   "outputs": [
    {
     "name": "stdout",
     "output_type": "stream",
     "text": [
      "o menor faturamento foi: R$ 373.7838\n",
      "o maior faturamento foi: R$ 48924.2448\n",
      "média: R$ 20865.370166666664\n",
      "o número de dias em que o faturamento foi maior do que a média foi:  9\n"
     ]
    }
   ],
   "source": [
    "valorMax = 0\n",
    "valorMin = 1000000\n",
    "m = 0\n",
    "n = 0\n",
    "maiores = 0\n",
    "\n",
    "for i in dados:\n",
    "\n",
    "    # Calculando o valor máx\n",
    "    if i['valor'] > valorMax:\n",
    "        valorMax = i['valor']\n",
    "    \n",
    "    # Calculando o valor min\n",
    "    if (i['valor'] < valorMin) and (i['valor'] != 0.0):\n",
    "        valorMin = i['valor']\n",
    "    \n",
    "    # Calculando a média\n",
    "    if i['valor'] != 0.0:\n",
    "        m = m + i['valor']\n",
    "        n = n + 1\n",
    "        \n",
    "    media = m / n\n",
    "\n",
    "    # Calculando os valores maiores que a média\n",
    "    if (i['valor'] > media):\n",
    "        maiores = maiores + 1\n",
    "\n",
    "print('o menor faturamento foi: R$', valorMin)\n",
    "print('o maior faturamento foi: R$', valorMax)\n",
    "print('média: R$', media)\n",
    "print('o número de dias em que o faturamento foi maior do que a média foram: ', maiores)\n",
    "\n"
   ]
  }
 ],
 "metadata": {
  "kernelspec": {
   "display_name": "Python 3",
   "language": "python",
   "name": "python3"
  },
  "language_info": {
   "codemirror_mode": {
    "name": "ipython",
    "version": 3
   },
   "file_extension": ".py",
   "mimetype": "text/x-python",
   "name": "python",
   "nbconvert_exporter": "python",
   "pygments_lexer": "ipython3",
   "version": "3.10.4"
  },
  "orig_nbformat": 4
 },
 "nbformat": 4,
 "nbformat_minor": 2
}
