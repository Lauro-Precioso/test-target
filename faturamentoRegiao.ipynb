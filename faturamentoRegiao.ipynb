{
 "cells": [
  {
   "cell_type": "code",
   "execution_count": 2,
   "metadata": {},
   "outputs": [
    {
     "name": "stdout",
     "output_type": "stream",
     "text": [
      "SP:  0.38 % RJ:  0.2 % MG:  0.16 % ES:  0.15 % Outros:  0.11 %\n"
     ]
    }
   ],
   "source": [
    "sp = 67836.43\n",
    "rj = 36678.66\n",
    "mg = 29229.88\n",
    "es = 27165.48\n",
    "outros = 19849.53\n",
    "\n",
    "total = sp + rj + mg + es + outros\n",
    "\n",
    "pSP = round(sp / total, 2)\n",
    "pRJ = round(rj / total, 2)\n",
    "pMG = round(mg / total, 2)\n",
    "pES = round(es / total, 2)\n",
    "pOutros = round(outros / total, 2)\n",
    "\n",
    "print('SP: ', pSP, '%', 'RJ: ', pRJ, '%', 'MG: ', pMG, '%', 'ES: ', pES, '%', 'Outros: ', pOutros, '%')"
   ]
  }
 ],
 "metadata": {
  "kernelspec": {
   "display_name": "Python 3",
   "language": "python",
   "name": "python3"
  },
  "language_info": {
   "codemirror_mode": {
    "name": "ipython",
    "version": 3
   },
   "file_extension": ".py",
   "mimetype": "text/x-python",
   "name": "python",
   "nbconvert_exporter": "python",
   "pygments_lexer": "ipython3",
   "version": "3.10.4"
  },
  "orig_nbformat": 4
 },
 "nbformat": 4,
 "nbformat_minor": 2
}
